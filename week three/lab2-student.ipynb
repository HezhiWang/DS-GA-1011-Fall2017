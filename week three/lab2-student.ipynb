{
 "cells": [
  {
   "cell_type": "markdown",
   "metadata": {},
   "source": [
    "# DS-GA 1011 Fall 2017 Lab 2\n",
    "# PyTorch Tutorial II: Feed Forward Neural Network on MNIST"
   ]
  },
  {
   "cell_type": "markdown",
   "metadata": {},
   "source": [
    "## Part I: Sample Logistic Regression Model"
   ]
  },
  {
   "cell_type": "code",
   "execution_count": 11,
   "metadata": {
    "collapsed": true
   },
   "outputs": [],
   "source": [
    "import torch\n",
    "import torch.nn as nn\n",
    "import torchvision.datasets as dsets\n",
    "import torchvision.transforms as transforms\n",
    "from torch.autograd import Variable\n",
    "import torch.nn.functional as F"
   ]
  },
  {
   "cell_type": "code",
   "execution_count": 12,
   "metadata": {
    "collapsed": true
   },
   "outputs": [],
   "source": [
    "# Hyper Parameters \n",
    "input_size = 784\n",
    "num_classes = 10\n",
    "num_epochs = 5\n",
    "batch_size = 100\n",
    "learning_rate = 0.001\n"
   ]
  },
  {
   "cell_type": "markdown",
   "metadata": {},
   "source": [
    "### Load Data"
   ]
  },
  {
   "cell_type": "code",
   "execution_count": 13,
   "metadata": {
    "collapsed": false
   },
   "outputs": [],
   "source": [
    "# MNIST Dataset (Images and Labels)\n",
    "train_dataset = dsets.MNIST(root='./data', \n",
    "                            train=True, \n",
    "                            transform=transforms.ToTensor(),\n",
    "                            download=True)\n",
    "\n",
    "test_dataset = dsets.MNIST(root='./data', \n",
    "                           train=False, \n",
    "                           transform=transforms.ToTensor())\n",
    "\n",
    "# Dataset Loader (Input Pipline)\n",
    "train_loader = torch.utils.data.DataLoader(dataset=train_dataset, \n",
    "                                           batch_size=batch_size, \n",
    "                                           shuffle=True)\n",
    "\n",
    "test_loader = torch.utils.data.DataLoader(dataset=test_dataset, \n",
    "                                          batch_size=batch_size, \n",
    "                                          shuffle=False)"
   ]
  },
  {
   "cell_type": "markdown",
   "metadata": {},
   "source": [
    "### Define Model"
   ]
  },
  {
   "cell_type": "code",
   "execution_count": 14,
   "metadata": {
    "collapsed": true
   },
   "outputs": [],
   "source": [
    "# Model\n",
    "class LogisticRegression(nn.Module):\n",
    "    def __init__(self, input_size, num_classes):\n",
    "        super(LogisticRegression, self).__init__()\n",
    "        self.linear = nn.Linear(input_size, num_classes)\n",
    "    \n",
    "    def forward(self, x):\n",
    "        out = self.linear(x)\n",
    "        return out\n",
    "\n",
    "model = LogisticRegression(input_size, num_classes)\n"
   ]
  },
  {
   "cell_type": "markdown",
   "metadata": {},
   "source": [
    "### Define a Loss function and optimizer"
   ]
  },
  {
   "cell_type": "code",
   "execution_count": 6,
   "metadata": {
    "collapsed": true
   },
   "outputs": [],
   "source": [
    "# Loss and Optimizer\n",
    "# Set parameters to be updated.\n",
    "loss_function = nn.CrossEntropyLoss()  \n",
    "optimizer = torch.optim.SGD(model.parameters(), lr=learning_rate)  \n"
   ]
  },
  {
   "cell_type": "markdown",
   "metadata": {},
   "source": [
    "### Train Model"
   ]
  },
  {
   "cell_type": "code",
   "execution_count": 7,
   "metadata": {
    "collapsed": false
   },
   "outputs": [
    {
     "name": "stdout",
     "output_type": "stream",
     "text": [
      "Epoch: [1/5], Step: [100/600], Loss: 2.2393\n",
      "Epoch: [1/5], Step: [200/600], Loss: 2.1373\n",
      "Epoch: [1/5], Step: [300/600], Loss: 2.0338\n",
      "Epoch: [1/5], Step: [400/600], Loss: 1.9283\n",
      "Epoch: [1/5], Step: [500/600], Loss: 1.9350\n",
      "Epoch: [1/5], Step: [600/600], Loss: 1.7819\n",
      "Epoch: [2/5], Step: [100/600], Loss: 1.7931\n",
      "Epoch: [2/5], Step: [200/600], Loss: 1.6956\n",
      "Epoch: [2/5], Step: [300/600], Loss: 1.5760\n",
      "Epoch: [2/5], Step: [400/600], Loss: 1.5978\n",
      "Epoch: [2/5], Step: [500/600], Loss: 1.5128\n",
      "Epoch: [2/5], Step: [600/600], Loss: 1.4774\n",
      "Epoch: [3/5], Step: [100/600], Loss: 1.3559\n",
      "Epoch: [3/5], Step: [200/600], Loss: 1.4810\n",
      "Epoch: [3/5], Step: [300/600], Loss: 1.3866\n",
      "Epoch: [3/5], Step: [400/600], Loss: 1.3579\n",
      "Epoch: [3/5], Step: [500/600], Loss: 1.1952\n",
      "Epoch: [3/5], Step: [600/600], Loss: 1.2570\n",
      "Epoch: [4/5], Step: [100/600], Loss: 1.2305\n",
      "Epoch: [4/5], Step: [200/600], Loss: 1.2831\n",
      "Epoch: [4/5], Step: [300/600], Loss: 1.1909\n",
      "Epoch: [4/5], Step: [400/600], Loss: 1.0803\n",
      "Epoch: [4/5], Step: [500/600], Loss: 1.0853\n",
      "Epoch: [4/5], Step: [600/600], Loss: 1.1787\n",
      "Epoch: [5/5], Step: [100/600], Loss: 1.2269\n",
      "Epoch: [5/5], Step: [200/600], Loss: 1.1107\n",
      "Epoch: [5/5], Step: [300/600], Loss: 1.1610\n",
      "Epoch: [5/5], Step: [400/600], Loss: 1.0189\n",
      "Epoch: [5/5], Step: [500/600], Loss: 1.0778\n",
      "Epoch: [5/5], Step: [600/600], Loss: 0.9009\n"
     ]
    }
   ],
   "source": [
    "# Training the Model\n",
    "for epoch in range(num_epochs):\n",
    "    for i, (images, labels) in enumerate(train_loader):\n",
    "        images = Variable(images.view(-1, 28*28))\n",
    "        labels = Variable(labels)\n",
    "        \n",
    "        # Forward + Backward + Optimize\n",
    "        optimizer.zero_grad()\n",
    "        outputs = model(images)\n",
    "        loss = loss_function(outputs, labels)\n",
    "        loss.backward()\n",
    "        optimizer.step()\n",
    "        \n",
    "        if (i+1) % 100 == 0:\n",
    "            print ('Epoch: [%d/%d], Step: [%d/%d], Loss: %.4f' \n",
    "                   % (epoch+1, num_epochs, i+1, len(train_dataset)//batch_size, loss.data[0]))\n"
   ]
  },
  {
   "cell_type": "markdown",
   "metadata": {},
   "source": [
    "### Test Your Model"
   ]
  },
  {
   "cell_type": "code",
   "execution_count": 8,
   "metadata": {
    "collapsed": false
   },
   "outputs": [
    {
     "name": "stdout",
     "output_type": "stream",
     "text": [
      "Accuracy of the model on the 10000 test images: 83 %\n"
     ]
    }
   ],
   "source": [
    "# Test the Model\n",
    "correct = 0\n",
    "total = 0\n",
    "for images, labels in test_loader:\n",
    "    images = Variable(images.view(-1, 28*28))\n",
    "    outputs = model(images)\n",
    "    _, predicted = torch.max(outputs.data, 1)\n",
    "    total += labels.size(0)\n",
    "    correct += (predicted == labels).sum()\n",
    "    \n",
    "print('Accuracy of the model on the 10000 test images: %d %%' % (100 * correct / total))\n",
    "\n",
    "# Save the Model\n",
    "#torch.save(model.state_dict(), 'model.pkl')"
   ]
  },
  {
   "cell_type": "markdown",
   "metadata": {},
   "source": [
    "## Part II: Feedforward Neural Network\n",
    "\n",
    "Please use this template to complete your model. Add your code to all blocks that have #TODO"
   ]
  },
  {
   "cell_type": "code",
   "execution_count": 15,
   "metadata": {
    "collapsed": true
   },
   "outputs": [],
   "source": [
    "# Hyper Parameters \n",
    "# TODO: Fill in your code\n",
    "input_size = None # how to represent a 28 * 28 matrix?\n",
    "hidden_size = None # try {100, 300, 500, 700}, how does hidden size affect the model?\n",
    "num_classes = None\n",
    "num_epochs = 5\n",
    "batch_size = 100\n",
    "learning_rate = None # try {1.0, 0.1, 0.01, 0.001, 0.0001} What's the best learning rate? How can we evaluate learning rate?"
   ]
  },
  {
   "cell_type": "code",
   "execution_count": 18,
   "metadata": {
    "collapsed": false
   },
   "outputs": [
    {
     "ename": "TypeError",
     "evalue": "torch.FloatTensor constructor received an invalid combination of arguments - got (NoneType, NoneType), but expected one of:\n * no arguments\n * (int ...)\n      didn't match because some of the arguments have invalid types: (\u001b[31;1mNoneType\u001b[0m, \u001b[31;1mNoneType\u001b[0m)\n * (torch.FloatTensor viewed_tensor)\n * (torch.Size size)\n * (torch.FloatStorage data)\n * (Sequence data)\n",
     "output_type": "error",
     "traceback": [
      "\u001b[0;31m---------------------------------------------------------------------------\u001b[0m",
      "\u001b[0;31mTypeError\u001b[0m                                 Traceback (most recent call last)",
      "\u001b[0;32m<ipython-input-18-bebefa0d8af2>\u001b[0m in \u001b[0;36m<module>\u001b[0;34m()\u001b[0m\n\u001b[1;32m     15\u001b[0m         \u001b[0;32mreturn\u001b[0m \u001b[0mout\u001b[0m\u001b[0;34m\u001b[0m\u001b[0m\n\u001b[1;32m     16\u001b[0m \u001b[0;34m\u001b[0m\u001b[0m\n\u001b[0;32m---> 17\u001b[0;31m \u001b[0mnet\u001b[0m \u001b[0;34m=\u001b[0m \u001b[0mNet\u001b[0m\u001b[0;34m(\u001b[0m\u001b[0minput_size\u001b[0m\u001b[0;34m,\u001b[0m \u001b[0mhidden_size\u001b[0m\u001b[0;34m,\u001b[0m \u001b[0mnum_classes\u001b[0m\u001b[0;34m)\u001b[0m\u001b[0;34m\u001b[0m\u001b[0m\n\u001b[0m",
      "\u001b[0;32m<ipython-input-18-bebefa0d8af2>\u001b[0m in \u001b[0;36m__init__\u001b[0;34m(self, input_size, hidden_size, num_classes)\u001b[0m\n\u001b[1;32m      5\u001b[0m         \u001b[0msuper\u001b[0m\u001b[0;34m(\u001b[0m\u001b[0mNet\u001b[0m\u001b[0;34m,\u001b[0m \u001b[0mself\u001b[0m\u001b[0;34m)\u001b[0m\u001b[0;34m.\u001b[0m\u001b[0m__init__\u001b[0m\u001b[0;34m(\u001b[0m\u001b[0;34m)\u001b[0m\u001b[0;34m\u001b[0m\u001b[0m\n\u001b[1;32m      6\u001b[0m         \u001b[0;31m#self.relu = nn.ReLU(num_classes)\u001b[0m\u001b[0;34m\u001b[0m\u001b[0;34m\u001b[0m\u001b[0m\n\u001b[0;32m----> 7\u001b[0;31m         \u001b[0mself\u001b[0m\u001b[0;34m.\u001b[0m\u001b[0mlinear\u001b[0m \u001b[0;34m=\u001b[0m \u001b[0mnn\u001b[0m\u001b[0;34m.\u001b[0m\u001b[0mLinear\u001b[0m\u001b[0;34m(\u001b[0m\u001b[0minput_size\u001b[0m\u001b[0;34m,\u001b[0m \u001b[0mhidden_size\u001b[0m\u001b[0;34m,\u001b[0m \u001b[0mnum_classes\u001b[0m\u001b[0;34m)\u001b[0m\u001b[0;34m\u001b[0m\u001b[0m\n\u001b[0m\u001b[1;32m      8\u001b[0m         \u001b[0;31m# define your network here\u001b[0m\u001b[0;34m\u001b[0m\u001b[0;34m\u001b[0m\u001b[0m\n\u001b[1;32m      9\u001b[0m         \u001b[0;31m# a relu layer\u001b[0m\u001b[0;34m\u001b[0m\u001b[0;34m\u001b[0m\u001b[0m\n",
      "\u001b[0;32m/Users/wanghezhi/anaconda3/lib/python3.6/site-packages/torch/nn/modules/linear.py\u001b[0m in \u001b[0;36m__init__\u001b[0;34m(self, in_features, out_features, bias)\u001b[0m\n\u001b[1;32m     35\u001b[0m         \u001b[0mself\u001b[0m\u001b[0;34m.\u001b[0m\u001b[0min_features\u001b[0m \u001b[0;34m=\u001b[0m \u001b[0min_features\u001b[0m\u001b[0;34m\u001b[0m\u001b[0m\n\u001b[1;32m     36\u001b[0m         \u001b[0mself\u001b[0m\u001b[0;34m.\u001b[0m\u001b[0mout_features\u001b[0m \u001b[0;34m=\u001b[0m \u001b[0mout_features\u001b[0m\u001b[0;34m\u001b[0m\u001b[0m\n\u001b[0;32m---> 37\u001b[0;31m         \u001b[0mself\u001b[0m\u001b[0;34m.\u001b[0m\u001b[0mweight\u001b[0m \u001b[0;34m=\u001b[0m \u001b[0mParameter\u001b[0m\u001b[0;34m(\u001b[0m\u001b[0mtorch\u001b[0m\u001b[0;34m.\u001b[0m\u001b[0mTensor\u001b[0m\u001b[0;34m(\u001b[0m\u001b[0mout_features\u001b[0m\u001b[0;34m,\u001b[0m \u001b[0min_features\u001b[0m\u001b[0;34m)\u001b[0m\u001b[0;34m)\u001b[0m\u001b[0;34m\u001b[0m\u001b[0m\n\u001b[0m\u001b[1;32m     38\u001b[0m         \u001b[0;32mif\u001b[0m \u001b[0mbias\u001b[0m\u001b[0;34m:\u001b[0m\u001b[0;34m\u001b[0m\u001b[0m\n\u001b[1;32m     39\u001b[0m             \u001b[0mself\u001b[0m\u001b[0;34m.\u001b[0m\u001b[0mbias\u001b[0m \u001b[0;34m=\u001b[0m \u001b[0mParameter\u001b[0m\u001b[0;34m(\u001b[0m\u001b[0mtorch\u001b[0m\u001b[0;34m.\u001b[0m\u001b[0mTensor\u001b[0m\u001b[0;34m(\u001b[0m\u001b[0mout_features\u001b[0m\u001b[0;34m)\u001b[0m\u001b[0;34m)\u001b[0m\u001b[0;34m\u001b[0m\u001b[0m\n",
      "\u001b[0;31mTypeError\u001b[0m: torch.FloatTensor constructor received an invalid combination of arguments - got (NoneType, NoneType), but expected one of:\n * no arguments\n * (int ...)\n      didn't match because some of the arguments have invalid types: (\u001b[31;1mNoneType\u001b[0m, \u001b[31;1mNoneType\u001b[0m)\n * (torch.FloatTensor viewed_tensor)\n * (torch.Size size)\n * (torch.FloatStorage data)\n * (Sequence data)\n"
     ]
    }
   ],
   "source": [
    "# Neural Network Model (2 hidden layer)\n",
    "# TODO: Fill in your code\n",
    "class Net(nn.Module):\n",
    "    def __init__(self, input_size, hidden_size, num_classes):\n",
    "        super(Net, self).__init__()\n",
    "        #self.relu = nn.ReLU(num_classes)\n",
    "        self.linear = nn.Linear(input_size, num_classes)\n",
    "        # define your network here \n",
    "        # a relu layer\n",
    "        # a linear layer\n",
    "    \n",
    "    def forward(self, x):\n",
    "        # define your forward function here\n",
    "        out = F.relu(self.linear(x))\n",
    "        return out\n",
    "    \n",
    "net = Net(input_size, hidden_size, num_classes)\n"
   ]
  },
  {
   "cell_type": "code",
   "execution_count": 12,
   "metadata": {
    "collapsed": true
   },
   "outputs": [],
   "source": [
    "# Loss and Optimizer\n",
    "# TODO: Fill in your code\n",
    "# construct your loss function\n",
    "loss_function = None\n",
    "# choose your optimizer\n",
    "optimizer = None"
   ]
  },
  {
   "cell_type": "code",
   "execution_count": 13,
   "metadata": {
    "collapsed": false
   },
   "outputs": [
    {
     "name": "stdout",
     "output_type": "stream",
     "text": [
      "Epoch [1/5], Step [100/600], Loss: 0.3635\n",
      "Epoch [1/5], Step [200/600], Loss: 0.2969\n",
      "Epoch [1/5], Step [300/600], Loss: 0.1284\n",
      "Epoch [1/5], Step [400/600], Loss: 0.2989\n",
      "Epoch [1/5], Step [500/600], Loss: 0.0931\n",
      "Epoch [1/5], Step [600/600], Loss: 0.1312\n",
      "Epoch [2/5], Step [100/600], Loss: 0.1669\n",
      "Epoch [2/5], Step [200/600], Loss: 0.0804\n",
      "Epoch [2/5], Step [300/600], Loss: 0.1155\n",
      "Epoch [2/5], Step [400/600], Loss: 0.0508\n",
      "Epoch [2/5], Step [500/600], Loss: 0.0805\n",
      "Epoch [2/5], Step [600/600], Loss: 0.0655\n",
      "Epoch [3/5], Step [100/600], Loss: 0.1704\n",
      "Epoch [3/5], Step [200/600], Loss: 0.0745\n",
      "Epoch [3/5], Step [300/600], Loss: 0.0971\n",
      "Epoch [3/5], Step [400/600], Loss: 0.0572\n",
      "Epoch [3/5], Step [500/600], Loss: 0.0742\n",
      "Epoch [3/5], Step [600/600], Loss: 0.0919\n",
      "Epoch [4/5], Step [100/600], Loss: 0.0804\n",
      "Epoch [4/5], Step [200/600], Loss: 0.0689\n",
      "Epoch [4/5], Step [300/600], Loss: 0.0195\n",
      "Epoch [4/5], Step [400/600], Loss: 0.0739\n",
      "Epoch [4/5], Step [500/600], Loss: 0.0751\n",
      "Epoch [4/5], Step [600/600], Loss: 0.0715\n",
      "Epoch [5/5], Step [100/600], Loss: 0.0393\n",
      "Epoch [5/5], Step [200/600], Loss: 0.0210\n",
      "Epoch [5/5], Step [300/600], Loss: 0.0211\n",
      "Epoch [5/5], Step [400/600], Loss: 0.0191\n",
      "Epoch [5/5], Step [500/600], Loss: 0.0133\n",
      "Epoch [5/5], Step [600/600], Loss: 0.0625\n"
     ]
    }
   ],
   "source": [
    "# Train the Model\n",
    "# TODO: Fill in your code\n",
    "for epoch in range(num_epochs):\n",
    "    for i, (images, labels) in enumerate(train_loader):  \n",
    "        # Convert torch tensor to Variable\n",
    "        images = None\n",
    "        labels = None\n",
    "        \n",
    "        # Forward + Backward + Optimize\n",
    "        # zero the gradient buffer\n",
    "        # compute output\n",
    "        outpus = None\n",
    "        # compute Loss\n",
    "        loss = None\n",
    "        # backprop        \n",
    "        if (i+1) % 100 == 0:\n",
    "            print ('Epoch [%d/%d], Step [%d/%d], Loss: %.4f' \n",
    "                   %(epoch+1, num_epochs, i+1, len(train_dataset)//batch_size, loss.data[0]))\n"
   ]
  },
  {
   "cell_type": "code",
   "execution_count": 14,
   "metadata": {
    "collapsed": false
   },
   "outputs": [
    {
     "name": "stdout",
     "output_type": "stream",
     "text": [
      "Accuracy of the network on the 10000 test images: 97 %\n"
     ]
    }
   ],
   "source": [
    "# Test the Model\n",
    "correct = 0\n",
    "total = 0\n",
    "for images, labels in test_loader:\n",
    "    images = Variable(images.view(-1, 28*28))\n",
    "    outputs = net(images)\n",
    "    _, predicted = torch.max(outputs.data, 1)\n",
    "    total += labels.size(0)\n",
    "    correct += (predicted == labels).sum()\n",
    "\n",
    "print('Accuracy of the network on the 10000 test images: %d %%' % (100 * correct / total))\n",
    "\n",
    "# Save the Model\n",
    "#torch.save(net.state_dict(), 'model.pkl')"
   ]
  },
  {
   "cell_type": "markdown",
   "metadata": {},
   "source": [
    "### More questions to think about:\n",
    "- Intuitively, what's the advantage of feed forward neural network over Logistic Regression?\n",
    "- Is there any regularization on the simple feed forward nn model? If no, what are those options for regularization?\n",
    "- Try the L2 regulariztion, does it improve the model performance?\n",
    "- What are the hyper parameters? Which aspect of the model does each of them control?\n",
    "- How to tune these hyper parameters?\n",
    "- Is there any relationship existing among these hyper parameters?\n",
    "- What's the best way to search for the optimized set of hyper parameters?"
   ]
  },
  {
   "cell_type": "markdown",
   "metadata": {
    "collapsed": true
   },
   "source": [
    "### Reference\n",
    "\n",
    "Official PyTorch Tutorial, http://pytorch.org/tutorials/beginner/blitz/cifar10_tutorial.html#sphx-glr-beginner-blitz-cifar10-tutorial-py \n",
    "\n",
    "\n",
    "yunjey's github, https://github.com/yunjey/pytorch-tutorial"
   ]
  },
  {
   "cell_type": "code",
   "execution_count": null,
   "metadata": {
    "collapsed": true
   },
   "outputs": [],
   "source": []
  }
 ],
 "metadata": {
  "anaconda-cloud": {},
  "kernelspec": {
   "display_name": "Python 3",
   "language": "python",
   "name": "python3"
  },
  "language_info": {
   "codemirror_mode": {
    "name": "ipython",
    "version": 3
   },
   "file_extension": ".py",
   "mimetype": "text/x-python",
   "name": "python",
   "nbconvert_exporter": "python",
   "pygments_lexer": "ipython3",
   "version": "3.6.0"
  }
 },
 "nbformat": 4,
 "nbformat_minor": 1
}
